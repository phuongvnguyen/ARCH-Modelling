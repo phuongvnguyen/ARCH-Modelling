{
 "cells": [
  {
   "cell_type": "markdown",
   "metadata": {},
   "source": [
    "$$\\large \\color{green}{\\textbf{The Autoregressive Conditional Ceteroskedasticity (ARCH) Modelling }}$$ \n",
    "\n",
    "$$\\large \\color{blue}{\\textbf{Phuong Van Nguyen}}$$\n",
    "$$\\small \\color{red}{\\textbf{ phuong.nguyen@summer.barcelonagse.eu}}$$\n",
    "\n",
    "\n",
    "This computer program was written by Phuong V. Nguyen, based on the $\\textbf{Anacoda 1.9.7}$ and $\\textbf{Python 3.7}$.\n",
    "\n",
    "$\\text{2. Dataset:}$ \n",
    "\n",
    "One can download the dataset used to replicate my project at my Repositories on the Github site below\n",
    "\n",
    "https://github.com/phuongvnguyen/ARCH-Modelling\n",
    "\n",
    "# Preparing Problem\n",
    "\n",
    "##  Loading Libraries"
   ]
  },
  {
   "cell_type": "code",
   "execution_count": 1,
   "metadata": {},
   "outputs": [],
   "source": [
    "import warnings\n",
    "import itertools\n",
    "import numpy as np\n",
    "import datetime as dt\n",
    "import matplotlib.pyplot as plt\n",
    "import seaborn as sns\n",
    "from statsmodels.tsa.arima_model import ARIMA\n",
    "#import pmdarima as pm\n",
    "warnings.filterwarnings(\"ignore\")\n",
    "plt.style.use('fivethirtyeight')\n",
    "import pandas as pd\n",
    "import statsmodels.api as sm\n",
    "import matplotlib\n",
    "from arch import arch_model\n",
    "from arch.univariate import GARCH"
   ]
  },
  {
   "cell_type": "markdown",
   "metadata": {},
   "source": [
    "## Defining some varibales for printing the result"
   ]
  },
  {
   "cell_type": "code",
   "execution_count": 2,
   "metadata": {},
   "outputs": [],
   "source": [
    "Purple= '\\033[95m'\n",
    "Cyan= '\\033[96m'\n",
    "Darkcyan= '\\033[36m'\n",
    "Blue = '\\033[94m'\n",
    "Green = '\\033[92m'\n",
    "Yellow = '\\033[93m'\n",
    "Red = '\\033[91m'\n",
    "Bold = \"\\033[1m\"\n",
    "Reset = \"\\033[0;0m\"\n",
    "Underline= '\\033[4m'\n",
    "End = '\\033[0m'"
   ]
  },
  {
   "cell_type": "markdown",
   "metadata": {},
   "source": [
    "##  Loading Dataset"
   ]
  },
  {
   "cell_type": "code",
   "execution_count": 3,
   "metadata": {},
   "outputs": [],
   "source": [
    "data = pd.read_excel(\"data.xlsx\")\n"
   ]
  },
  {
   "cell_type": "markdown",
   "metadata": {},
   "source": [
    "# Data Exploration and Preration\n",
    "\n",
    "## Data exploration"
   ]
  },
  {
   "cell_type": "code",
   "execution_count": 4,
   "metadata": {},
   "outputs": [
    {
     "data": {
      "text/html": [
       "<div>\n",
       "<style scoped>\n",
       "    .dataframe tbody tr th:only-of-type {\n",
       "        vertical-align: middle;\n",
       "    }\n",
       "\n",
       "    .dataframe tbody tr th {\n",
       "        vertical-align: top;\n",
       "    }\n",
       "\n",
       "    .dataframe thead th {\n",
       "        text-align: right;\n",
       "    }\n",
       "</style>\n",
       "<table border=\"1\" class=\"dataframe\">\n",
       "  <thead>\n",
       "    <tr style=\"text-align: right;\">\n",
       "      <th></th>\n",
       "      <th>DATE</th>\n",
       "      <th>CLOSE</th>\n",
       "      <th>TICKER</th>\n",
       "      <th>OPEN</th>\n",
       "      <th>HIGH</th>\n",
       "      <th>LOW</th>\n",
       "      <th>VOLUME</th>\n",
       "    </tr>\n",
       "  </thead>\n",
       "  <tbody>\n",
       "    <tr>\n",
       "      <td>0</td>\n",
       "      <td>2007-09-19</td>\n",
       "      <td>125.0</td>\n",
       "      <td>VIC</td>\n",
       "      <td>125.0</td>\n",
       "      <td>125.0</td>\n",
       "      <td>125.0</td>\n",
       "      <td>307840</td>\n",
       "    </tr>\n",
       "    <tr>\n",
       "      <td>1</td>\n",
       "      <td>2007-09-20</td>\n",
       "      <td>131.0</td>\n",
       "      <td>VIC</td>\n",
       "      <td>131.0</td>\n",
       "      <td>131.0</td>\n",
       "      <td>130.0</td>\n",
       "      <td>794790</td>\n",
       "    </tr>\n",
       "    <tr>\n",
       "      <td>2</td>\n",
       "      <td>2007-09-21</td>\n",
       "      <td>137.0</td>\n",
       "      <td>VIC</td>\n",
       "      <td>137.0</td>\n",
       "      <td>137.0</td>\n",
       "      <td>135.0</td>\n",
       "      <td>1224660</td>\n",
       "    </tr>\n",
       "    <tr>\n",
       "      <td>3</td>\n",
       "      <td>2007-09-24</td>\n",
       "      <td>143.0</td>\n",
       "      <td>VIC</td>\n",
       "      <td>143.0</td>\n",
       "      <td>143.0</td>\n",
       "      <td>143.0</td>\n",
       "      <td>551130</td>\n",
       "    </tr>\n",
       "    <tr>\n",
       "      <td>4</td>\n",
       "      <td>2007-09-25</td>\n",
       "      <td>150.0</td>\n",
       "      <td>VIC</td>\n",
       "      <td>150.0</td>\n",
       "      <td>150.0</td>\n",
       "      <td>148.0</td>\n",
       "      <td>962110</td>\n",
       "    </tr>\n",
       "  </tbody>\n",
       "</table>\n",
       "</div>"
      ],
      "text/plain": [
       "        DATE  CLOSE TICKER   OPEN   HIGH    LOW   VOLUME\n",
       "0 2007-09-19  125.0    VIC  125.0  125.0  125.0   307840\n",
       "1 2007-09-20  131.0    VIC  131.0  131.0  130.0   794790\n",
       "2 2007-09-21  137.0    VIC  137.0  137.0  135.0  1224660\n",
       "3 2007-09-24  143.0    VIC  143.0  143.0  143.0   551130\n",
       "4 2007-09-25  150.0    VIC  150.0  150.0  148.0   962110"
      ]
     },
     "execution_count": 4,
     "metadata": {},
     "output_type": "execute_result"
    }
   ],
   "source": [
    "data.head(5)"
   ]
  },
  {
   "cell_type": "markdown",
   "metadata": {},
   "source": [
    "## Computing returns\n",
    "### Picking up the close prices"
   ]
  },
  {
   "cell_type": "code",
   "execution_count": 5,
   "metadata": {},
   "outputs": [
    {
     "data": {
      "text/html": [
       "<div>\n",
       "<style scoped>\n",
       "    .dataframe tbody tr th:only-of-type {\n",
       "        vertical-align: middle;\n",
       "    }\n",
       "\n",
       "    .dataframe tbody tr th {\n",
       "        vertical-align: top;\n",
       "    }\n",
       "\n",
       "    .dataframe thead th {\n",
       "        text-align: right;\n",
       "    }\n",
       "</style>\n",
       "<table border=\"1\" class=\"dataframe\">\n",
       "  <thead>\n",
       "    <tr style=\"text-align: right;\">\n",
       "      <th></th>\n",
       "      <th>DATE</th>\n",
       "      <th>CLOSE</th>\n",
       "    </tr>\n",
       "  </thead>\n",
       "  <tbody>\n",
       "    <tr>\n",
       "      <td>0</td>\n",
       "      <td>2007-09-19</td>\n",
       "      <td>125.0</td>\n",
       "    </tr>\n",
       "    <tr>\n",
       "      <td>1</td>\n",
       "      <td>2007-09-20</td>\n",
       "      <td>131.0</td>\n",
       "    </tr>\n",
       "    <tr>\n",
       "      <td>2</td>\n",
       "      <td>2007-09-21</td>\n",
       "      <td>137.0</td>\n",
       "    </tr>\n",
       "    <tr>\n",
       "      <td>3</td>\n",
       "      <td>2007-09-24</td>\n",
       "      <td>143.0</td>\n",
       "    </tr>\n",
       "    <tr>\n",
       "      <td>4</td>\n",
       "      <td>2007-09-25</td>\n",
       "      <td>150.0</td>\n",
       "    </tr>\n",
       "  </tbody>\n",
       "</table>\n",
       "</div>"
      ],
      "text/plain": [
       "        DATE  CLOSE\n",
       "0 2007-09-19  125.0\n",
       "1 2007-09-20  131.0\n",
       "2 2007-09-21  137.0\n",
       "3 2007-09-24  143.0\n",
       "4 2007-09-25  150.0"
      ]
     },
     "execution_count": 5,
     "metadata": {},
     "output_type": "execute_result"
    }
   ],
   "source": [
    "closePrice = data[['DATE','CLOSE']]\n",
    "closePrice.head(5)"
   ]
  },
  {
   "cell_type": "markdown",
   "metadata": {},
   "source": [
    "### Computing the daily returns"
   ]
  },
  {
   "cell_type": "code",
   "execution_count": 6,
   "metadata": {},
   "outputs": [
    {
     "data": {
      "text/html": [
       "<div>\n",
       "<style scoped>\n",
       "    .dataframe tbody tr th:only-of-type {\n",
       "        vertical-align: middle;\n",
       "    }\n",
       "\n",
       "    .dataframe tbody tr th {\n",
       "        vertical-align: top;\n",
       "    }\n",
       "\n",
       "    .dataframe thead th {\n",
       "        text-align: right;\n",
       "    }\n",
       "</style>\n",
       "<table border=\"1\" class=\"dataframe\">\n",
       "  <thead>\n",
       "    <tr style=\"text-align: right;\">\n",
       "      <th></th>\n",
       "      <th>DATE</th>\n",
       "      <th>CLOSE</th>\n",
       "      <th>Return</th>\n",
       "    </tr>\n",
       "  </thead>\n",
       "  <tbody>\n",
       "    <tr>\n",
       "      <td>0</td>\n",
       "      <td>2007-09-19</td>\n",
       "      <td>125.0</td>\n",
       "      <td>NaN</td>\n",
       "    </tr>\n",
       "    <tr>\n",
       "      <td>1</td>\n",
       "      <td>2007-09-20</td>\n",
       "      <td>131.0</td>\n",
       "      <td>0.048000</td>\n",
       "    </tr>\n",
       "    <tr>\n",
       "      <td>2</td>\n",
       "      <td>2007-09-21</td>\n",
       "      <td>137.0</td>\n",
       "      <td>0.045802</td>\n",
       "    </tr>\n",
       "    <tr>\n",
       "      <td>3</td>\n",
       "      <td>2007-09-24</td>\n",
       "      <td>143.0</td>\n",
       "      <td>0.043796</td>\n",
       "    </tr>\n",
       "    <tr>\n",
       "      <td>4</td>\n",
       "      <td>2007-09-25</td>\n",
       "      <td>150.0</td>\n",
       "      <td>0.048951</td>\n",
       "    </tr>\n",
       "  </tbody>\n",
       "</table>\n",
       "</div>"
      ],
      "text/plain": [
       "        DATE  CLOSE    Return\n",
       "0 2007-09-19  125.0       NaN\n",
       "1 2007-09-20  131.0  0.048000\n",
       "2 2007-09-21  137.0  0.045802\n",
       "3 2007-09-24  143.0  0.043796\n",
       "4 2007-09-25  150.0  0.048951"
      ]
     },
     "execution_count": 6,
     "metadata": {},
     "output_type": "execute_result"
    }
   ],
   "source": [
    "closePrice['Return'] = closePrice['CLOSE'].pct_change()\n",
    "closePrice.head()"
   ]
  },
  {
   "cell_type": "code",
   "execution_count": 7,
   "metadata": {},
   "outputs": [
    {
     "data": {
      "text/html": [
       "<div>\n",
       "<style scoped>\n",
       "    .dataframe tbody tr th:only-of-type {\n",
       "        vertical-align: middle;\n",
       "    }\n",
       "\n",
       "    .dataframe tbody tr th {\n",
       "        vertical-align: top;\n",
       "    }\n",
       "\n",
       "    .dataframe thead th {\n",
       "        text-align: right;\n",
       "    }\n",
       "</style>\n",
       "<table border=\"1\" class=\"dataframe\">\n",
       "  <thead>\n",
       "    <tr style=\"text-align: right;\">\n",
       "      <th></th>\n",
       "      <th>DATE</th>\n",
       "      <th>Return</th>\n",
       "    </tr>\n",
       "  </thead>\n",
       "  <tbody>\n",
       "    <tr>\n",
       "      <td>0</td>\n",
       "      <td>2007-09-19</td>\n",
       "      <td>NaN</td>\n",
       "    </tr>\n",
       "    <tr>\n",
       "      <td>1</td>\n",
       "      <td>2007-09-20</td>\n",
       "      <td>0.048000</td>\n",
       "    </tr>\n",
       "    <tr>\n",
       "      <td>2</td>\n",
       "      <td>2007-09-21</td>\n",
       "      <td>0.045802</td>\n",
       "    </tr>\n",
       "    <tr>\n",
       "      <td>3</td>\n",
       "      <td>2007-09-24</td>\n",
       "      <td>0.043796</td>\n",
       "    </tr>\n",
       "    <tr>\n",
       "      <td>4</td>\n",
       "      <td>2007-09-25</td>\n",
       "      <td>0.048951</td>\n",
       "    </tr>\n",
       "  </tbody>\n",
       "</table>\n",
       "</div>"
      ],
      "text/plain": [
       "        DATE    Return\n",
       "0 2007-09-19       NaN\n",
       "1 2007-09-20  0.048000\n",
       "2 2007-09-21  0.045802\n",
       "3 2007-09-24  0.043796\n",
       "4 2007-09-25  0.048951"
      ]
     },
     "execution_count": 7,
     "metadata": {},
     "output_type": "execute_result"
    }
   ],
   "source": [
    "daily_return=closePrice[['DATE','Return']]\n",
    "daily_return.head()"
   ]
  },
  {
   "cell_type": "markdown",
   "metadata": {},
   "source": [
    "### Reseting index"
   ]
  },
  {
   "cell_type": "code",
   "execution_count": 8,
   "metadata": {},
   "outputs": [
    {
     "data": {
      "text/html": [
       "<div>\n",
       "<style scoped>\n",
       "    .dataframe tbody tr th:only-of-type {\n",
       "        vertical-align: middle;\n",
       "    }\n",
       "\n",
       "    .dataframe tbody tr th {\n",
       "        vertical-align: top;\n",
       "    }\n",
       "\n",
       "    .dataframe thead th {\n",
       "        text-align: right;\n",
       "    }\n",
       "</style>\n",
       "<table border=\"1\" class=\"dataframe\">\n",
       "  <thead>\n",
       "    <tr style=\"text-align: right;\">\n",
       "      <th></th>\n",
       "      <th>Return</th>\n",
       "    </tr>\n",
       "    <tr>\n",
       "      <th>DATE</th>\n",
       "      <th></th>\n",
       "    </tr>\n",
       "  </thead>\n",
       "  <tbody>\n",
       "    <tr>\n",
       "      <td>2007-09-19</td>\n",
       "      <td>NaN</td>\n",
       "    </tr>\n",
       "    <tr>\n",
       "      <td>2007-09-20</td>\n",
       "      <td>0.048000</td>\n",
       "    </tr>\n",
       "    <tr>\n",
       "      <td>2007-09-21</td>\n",
       "      <td>0.045802</td>\n",
       "    </tr>\n",
       "    <tr>\n",
       "      <td>2007-09-24</td>\n",
       "      <td>0.043796</td>\n",
       "    </tr>\n",
       "    <tr>\n",
       "      <td>2007-09-25</td>\n",
       "      <td>0.048951</td>\n",
       "    </tr>\n",
       "  </tbody>\n",
       "</table>\n",
       "</div>"
      ],
      "text/plain": [
       "              Return\n",
       "DATE                \n",
       "2007-09-19       NaN\n",
       "2007-09-20  0.048000\n",
       "2007-09-21  0.045802\n",
       "2007-09-24  0.043796\n",
       "2007-09-25  0.048951"
      ]
     },
     "execution_count": 8,
     "metadata": {},
     "output_type": "execute_result"
    }
   ],
   "source": [
    "daily_return =daily_return.set_index('DATE')\n",
    "daily_return.head()"
   ]
  },
  {
   "cell_type": "code",
   "execution_count": 9,
   "metadata": {},
   "outputs": [
    {
     "data": {
      "text/html": [
       "<div>\n",
       "<style scoped>\n",
       "    .dataframe tbody tr th:only-of-type {\n",
       "        vertical-align: middle;\n",
       "    }\n",
       "\n",
       "    .dataframe tbody tr th {\n",
       "        vertical-align: top;\n",
       "    }\n",
       "\n",
       "    .dataframe thead th {\n",
       "        text-align: right;\n",
       "    }\n",
       "</style>\n",
       "<table border=\"1\" class=\"dataframe\">\n",
       "  <thead>\n",
       "    <tr style=\"text-align: right;\">\n",
       "      <th></th>\n",
       "      <th>Return</th>\n",
       "    </tr>\n",
       "    <tr>\n",
       "      <th>DATE</th>\n",
       "      <th></th>\n",
       "    </tr>\n",
       "  </thead>\n",
       "  <tbody>\n",
       "    <tr>\n",
       "      <td>2007-09-20</td>\n",
       "      <td>4.800000</td>\n",
       "    </tr>\n",
       "    <tr>\n",
       "      <td>2007-09-21</td>\n",
       "      <td>4.580153</td>\n",
       "    </tr>\n",
       "    <tr>\n",
       "      <td>2007-09-24</td>\n",
       "      <td>4.379562</td>\n",
       "    </tr>\n",
       "    <tr>\n",
       "      <td>2007-09-25</td>\n",
       "      <td>4.895105</td>\n",
       "    </tr>\n",
       "    <tr>\n",
       "      <td>2007-09-26</td>\n",
       "      <td>4.666667</td>\n",
       "    </tr>\n",
       "  </tbody>\n",
       "</table>\n",
       "</div>"
      ],
      "text/plain": [
       "              Return\n",
       "DATE                \n",
       "2007-09-20  4.800000\n",
       "2007-09-21  4.580153\n",
       "2007-09-24  4.379562\n",
       "2007-09-25  4.895105\n",
       "2007-09-26  4.666667"
      ]
     },
     "execution_count": 9,
     "metadata": {},
     "output_type": "execute_result"
    }
   ],
   "source": [
    "daily_return = 100 * daily_return.dropna()\n",
    "daily_return.head()"
   ]
  },
  {
   "cell_type": "code",
   "execution_count": 10,
   "metadata": {},
   "outputs": [
    {
     "data": {
      "text/plain": [
       "DatetimeIndex(['2007-09-20', '2007-09-21', '2007-09-24', '2007-09-25',\n",
       "               '2007-09-26', '2007-09-27', '2007-09-28', '2007-10-01',\n",
       "               '2007-10-02', '2007-10-03',\n",
       "               ...\n",
       "               '2013-12-18', '2013-12-19', '2013-12-20', '2013-12-23',\n",
       "               '2013-12-24', '2013-12-25', '2013-12-26', '2013-12-27',\n",
       "               '2013-12-30', '2013-12-31'],\n",
       "              dtype='datetime64[ns]', name='DATE', length=1569, freq=None)"
      ]
     },
     "execution_count": 10,
     "metadata": {},
     "output_type": "execute_result"
    }
   ],
   "source": [
    "daily_return.index"
   ]
  },
  {
   "cell_type": "markdown",
   "metadata": {},
   "source": [
    "### Plotting returns"
   ]
  },
  {
   "cell_type": "code",
   "execution_count": 11,
   "metadata": {},
   "outputs": [
    {
     "data": {
      "image/png": "[encoded data removed]",
      "text/plain": [
       "<Figure size 720x504 with 1 Axes>"
      ]
     },
     "metadata": {
      "needs_background": "light"
     },
     "output_type": "display_data"
    }
   ],
   "source": [
    "fig=plt.figure(figsize=(10,7))\n",
    "figure = daily_return['Return'].plot()"
   ]
  },
  {
   "cell_type": "code",
   "execution_count": 12,
   "metadata": {},
   "outputs": [
    {
     "data": {
      "text/plain": [
       "Text(0.5, 0, 'Source: The Daily Close Price-based Calculations')"
      ]
     },
     "execution_count": 12,
     "metadata": {},
     "output_type": "execute_result"
    },
    {
     "data": {
      "image/png": "[encoded data removed]",
      "text/plain": [
       "<Figure size 864x504 with 1 Axes>"
      ]
     },
     "metadata": {},
     "output_type": "display_data"
    }
   ],
   "source": [
    "sns.set()\n",
    "fig=plt.figure(figsize=(12,7))\n",
    "plt.plot(daily_return.Return['2007':'2013'],LineWidth=4)\n",
    "plt.autoscale(enable=True,axis='both',tight=True)\n",
    "#plt.grid(linestyle=':',which='both',linewidth=2)\n",
    "fig.suptitle('The Log Daily Returns', fontsize=18,fontweight='bold')\n",
    "plt.title('19/09/2007- 31/12/2019',fontsize=15,fontweight='bold',color='k')\n",
    "plt.ylabel('Return (%)',fontsize=17)\n",
    "plt.xlabel('Source: The Daily Close Price-based Calculations',fontsize=17,fontweight='normal',color='k')"
   ]
  },
  {
   "cell_type": "markdown",
   "metadata": {},
   "source": [
    "# Modelling ARCH model\n",
    "\n",
    "$$\\text{Mean equation:}$$\n",
    "$$r_{t}=\\mu + \\epsilon_{t}$$\n",
    "\n",
    "$$\\text{Volatility equation:}$$\n",
    "$$\\sigma^{2}_{t}= \\omega + \\alpha \\epsilon^{2}_{t}$$\n",
    "\n",
    "$$\\text{Volatility equation:}$$\n",
    "\n",
    "$$\\epsilon_{t}= \\sigma_{t} e_{t}$$\n",
    "\n",
    "$$e_{t} \\sim N(0,1)$$\n"
   ]
  },
  {
   "cell_type": "code",
   "execution_count": 15,
   "metadata": {},
   "outputs": [
    {
     "name": "stdout",
     "output_type": "stream",
     "text": [
      "Iteration:      1,   Func. Count:      9,   Neg. LLF: 3992.760294446439\n",
      "Iteration:      2,   Func. Count:     21,   Neg. LLF: 3948.234738789284\n",
      "Iteration:      3,   Func. Count:     33,   Neg. LLF: 3932.107272178546\n",
      "Iteration:      4,   Func. Count:     43,   Neg. LLF: 3913.464609522812\n",
      "Iteration:      5,   Func. Count:     53,   Neg. LLF: 3899.937047722744\n",
      "Iteration:      6,   Func. Count:     63,   Neg. LLF: 3889.8773281673803\n",
      "Iteration:      7,   Func. Count:     73,   Neg. LLF: 3881.083865862993\n",
      "Iteration:      8,   Func. Count:     83,   Neg. LLF: 3873.177669828873\n",
      "Iteration:      9,   Func. Count:     93,   Neg. LLF: 3868.0998175312325\n",
      "Iteration:     10,   Func. Count:    103,   Neg. LLF: 3864.4284212451835\n",
      "Iteration:     11,   Func. Count:    113,   Neg. LLF: 3856.6386390765347\n",
      "Iteration:     12,   Func. Count:    122,   Neg. LLF: 3849.6114254976046\n",
      "Iteration:     13,   Func. Count:    134,   Neg. LLF: 3847.8419851527806\n",
      "Iteration:     14,   Func. Count:    144,   Neg. LLF: 3845.8295065326397\n",
      "Iteration:     15,   Func. Count:    154,   Neg. LLF: 3845.4767811424013\n",
      "Iteration:     16,   Func. Count:    163,   Neg. LLF: 3843.3140033480117\n",
      "Iteration:     17,   Func. Count:    173,   Neg. LLF: 3843.1353553269514\n",
      "Iteration:     18,   Func. Count:    182,   Neg. LLF: 3843.0863205026712\n",
      "Iteration:     19,   Func. Count:    191,   Neg. LLF: 3843.0808532943047\n",
      "Iteration:     20,   Func. Count:    200,   Neg. LLF: 3843.0792853303747\n",
      "Iteration:     21,   Func. Count:    209,   Neg. LLF: 3843.068722088253\n",
      "Iteration:     22,   Func. Count:    218,   Neg. LLF: 3843.010009107671\n",
      "Iteration:     23,   Func. Count:    227,   Neg. LLF: 3842.993551400028\n",
      "Iteration:     24,   Func. Count:    236,   Neg. LLF: 3842.953059676216\n",
      "Iteration:     25,   Func. Count:    245,   Neg. LLF: 3842.9367429024896\n",
      "Iteration:     26,   Func. Count:    254,   Neg. LLF: 3842.9248793004626\n",
      "Iteration:     27,   Func. Count:    263,   Neg. LLF: 3842.9244889940637\n",
      "Iteration:     28,   Func. Count:    272,   Neg. LLF: 3842.924474943182\n",
      "Optimization terminated successfully.    (Exit mode 0)\n",
      "            Current function value: 3842.924471540209\n",
      "            Iterations: 28\n",
      "            Function evaluations: 272\n",
      "            Gradient evaluations: 28\n",
      "                      Constant Mean - ARCH Model Results                      \n",
      "==============================================================================\n",
      "Dep. Variable:                 Return   R-squared:                      -0.003\n",
      "Mean Model:             Constant Mean   Adj. R-squared:                 -0.003\n",
      "Vol Model:                       ARCH   Log-Likelihood:               -3842.92\n",
      "Distribution:                  Normal   AIC:                           7699.85\n",
      "Method:            Maximum Likelihood   BIC:                           7737.36\n",
      "                                        No. Observations:                 1569\n",
      "Date:                Fri, Feb 21 2020   Df Residuals:                     1562\n",
      "Time:                        18:51:52   Df Model:                            7\n",
      "                               Mean Model                               \n",
      "========================================================================\n",
      "                 coef    std err          t      P>|t|  95.0% Conf. Int.\n",
      "------------------------------------------------------------------------\n",
      "mu             0.1774      0.285      0.622      0.534 [ -0.381,  0.736]\n",
      "                               Volatility Model                              \n",
      "=============================================================================\n",
      "                 coef    std err          t      P>|t|       95.0% Conf. Int.\n",
      "-----------------------------------------------------------------------------\n",
      "omega          3.1263      1.542      2.028  4.257e-02      [  0.105,  6.148]\n",
      "alpha[1]       0.6144      0.513      1.197      0.231      [ -0.392,  1.620]\n",
      "alpha[2]       0.2583      0.230      1.125      0.261      [ -0.192,  0.708]\n",
      "alpha[3]       0.0575      0.248      0.231      0.817      [ -0.429,  0.544]\n",
      "alpha[4]       0.0699      0.309      0.226      0.821      [ -0.536,  0.676]\n",
      "alpha[5]       0.0000  4.399e-03      0.000      1.000 [-8.623e-03,8.623e-03]\n",
      "=============================================================================\n",
      "\n",
      "Covariance estimator: robust\n"
     ]
    }
   ],
   "source": [
    "am = arch_model(daily_return,p=5, o=0, q=0)\n",
    "res = am.fit(update_freq=1)\n",
    "print(res.summary())"
   ]
  },
  {
   "cell_type": "markdown",
   "metadata": {},
   "source": [
    "# Checking the residual"
   ]
  },
  {
   "cell_type": "code",
   "execution_count": 16,
   "metadata": {},
   "outputs": [
    {
     "data": {
      "image/png": "[encoded data removed]",
      "text/plain": [
       "<Figure size 432x288 with 2 Axes>"
      ]
     },
     "metadata": {},
     "output_type": "display_data"
    }
   ],
   "source": [
    "\n",
    "fig = res.plot(annualize='D')"
   ]
  },
  {
   "cell_type": "code",
   "execution_count": null,
   "metadata": {},
   "outputs": [],
   "source": []
  }
 ],
 "metadata": {
  "kernelspec": {
   "display_name": "Python 3",
   "language": "python",
   "name": "python3"
  },
  "language_info": {
   "codemirror_mode": {
    "name": "ipython",
    "version": 3
   },
   "file_extension": ".py",
   "mimetype": "text/x-python",
   "name": "python",
   "nbconvert_exporter": "python",
   "pygments_lexer": "ipython3",
   "version": "3.6.9"
  },
  "toc": {
   "base_numbering": 1,
   "nav_menu": {},
   "number_sections": true,
   "sideBar": true,
   "skip_h1_title": false,
   "title_cell": "Table of Contents",
   "title_sidebar": "Contents",
   "toc_cell": false,
   "toc_position": {},
   "toc_section_display": true,
   "toc_window_display": false
  }
 },
 "nbformat": 4,
 "nbformat_minor": 2
}
